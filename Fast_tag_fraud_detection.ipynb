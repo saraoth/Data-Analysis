{
  "nbformat": 4,
  "nbformat_minor": 0,
  "metadata": {
    "colab": {
      "provenance": [],
      "authorship_tag": "ABX9TyOYZu22mlW0dhrHZHEezkWH",
      "include_colab_link": true
    },
    "kernelspec": {
      "name": "python3",
      "display_name": "Python 3"
    },
    "language_info": {
      "name": "python"
    }
  },
  "cells": [
    {
      "cell_type": "markdown",
      "metadata": {
        "id": "view-in-github",
        "colab_type": "text"
      },
      "source": [
        "<a href=\"https://colab.research.google.com/github/saraoth/Data-Analysis/blob/rebo1/Fast_tag_fraud_detection.ipynb\" target=\"_parent\"><img src=\"https://colab.research.google.com/assets/colab-badge.svg\" alt=\"Open In Colab\"/></a>"
      ]
    },
    {
      "cell_type": "code",
      "execution_count": null,
      "metadata": {
        "id": "i_rAr3Osvlnq"
      },
      "outputs": [],
      "source": []
    },
    {
      "cell_type": "code",
      "execution_count": 5,
      "metadata": {
        "id": "ukiLPctpVhym"
      },
      "outputs": [],
      "source": [
        "import pandas as pd\n",
        "import numpy as np\n",
        "import matplotlib.pyplot as plt\n",
        "import seaborn as sns"
      ]
    },
    {
      "cell_type": "markdown",
      "source": [
        "Step 1: Data Exploration\n"
      ],
      "metadata": {
        "id": "M5tbUTEc4wot"
      }
    },
    {
      "cell_type": "code",
      "source": [
        "# Load the dataset from a CSV file\n",
        "dataset_path = \"/content/FastagFraudDetection.csv\"\n",
        "df = pd.read_csv(dataset_path)\n",
        "\n",
        "# Display the first few rows of the dataframe\n",
        "print(df.head())\n",
        "print(df.info())\n",
        "print(df.describe())\n",
        "print(df['Fraud_indicator'].value_counts())\n"
      ],
      "metadata": {
        "id": "71ONkfkBWPES",
        "colab": {
          "base_uri": "https://localhost:8080/"
        },
        "outputId": "10d17a0a-f2aa-4316-c6f4-56523f7d763f"
      },
      "execution_count": 7,
      "outputs": [
        {
          "output_type": "stream",
          "name": "stdout",
          "text": [
            "   Transaction_ID       Timestamp Vehicle_Type         FastagID TollBoothID  \\\n",
            "0               1  1/6/2023 11:20         Bus   FTG-001-ABC-121       A-101   \n",
            "1               2  1/7/2023 14:55          Car  FTG-002-XYZ-451       B-102   \n",
            "2               3  1/8/2023 18:25   Motorcycle              NaN       D-104   \n",
            "3               4   1/9/2023 2:05        Truck  FTG-044-LMN-322       C-103   \n",
            "4               5  1/10/2023 6:35          Van  FTG-505-DEF-652       B-102   \n",
            "\n",
            "  Lane_Type Vehicle_Dimensions  Transaction_Amount  Amount_paid  \\\n",
            "0   Express              Large                 350          120   \n",
            "1   Regular              Small                 120          100   \n",
            "2   Regular              Small                   0            0   \n",
            "3   Regular              Large                 350          120   \n",
            "4   Express             Medium                 140          100   \n",
            "\n",
            "                   Geographical_Location  Vehicle_Speed Vehicle_Plate_Number  \\\n",
            "0  13.059816123454882, 77.77068662374292             65           KA11AB1234   \n",
            "1  13.059816123454882, 77.77068662374292             78           KA66CD5678   \n",
            "2  13.059816123454882, 77.77068662374292             53           KA88EF9012   \n",
            "3  13.059816123454882, 77.77068662374292             92           KA11GH3456   \n",
            "4  13.059816123454882, 77.77068662374292             60           KA44IJ6789   \n",
            "\n",
            "  Fraud_indicator  \n",
            "0           Fraud  \n",
            "1           Fraud  \n",
            "2       Not Fraud  \n",
            "3           Fraud  \n",
            "4           Fraud  \n",
            "<class 'pandas.core.frame.DataFrame'>\n",
            "RangeIndex: 5000 entries, 0 to 4999\n",
            "Data columns (total 13 columns):\n",
            " #   Column                 Non-Null Count  Dtype \n",
            "---  ------                 --------------  ----- \n",
            " 0   Transaction_ID         5000 non-null   int64 \n",
            " 1   Timestamp              5000 non-null   object\n",
            " 2   Vehicle_Type           5000 non-null   object\n",
            " 3   FastagID               4451 non-null   object\n",
            " 4   TollBoothID            5000 non-null   object\n",
            " 5   Lane_Type              5000 non-null   object\n",
            " 6   Vehicle_Dimensions     5000 non-null   object\n",
            " 7   Transaction_Amount     5000 non-null   int64 \n",
            " 8   Amount_paid            5000 non-null   int64 \n",
            " 9   Geographical_Location  5000 non-null   object\n",
            " 10  Vehicle_Speed          5000 non-null   int64 \n",
            " 11  Vehicle_Plate_Number   5000 non-null   object\n",
            " 12  Fraud_indicator        5000 non-null   object\n",
            "dtypes: int64(4), object(9)\n",
            "memory usage: 507.9+ KB\n",
            "None\n",
            "       Transaction_ID  Transaction_Amount  Amount_paid  Vehicle_Speed\n",
            "count     5000.000000          5000.00000  5000.000000    5000.000000\n",
            "mean      2500.500000           161.06200   141.261000      67.851200\n",
            "std       1443.520003           112.44995   106.480996      16.597547\n",
            "min          1.000000             0.00000     0.000000      10.000000\n",
            "25%       1250.750000           100.00000    90.000000      54.000000\n",
            "50%       2500.500000           130.00000   120.000000      67.000000\n",
            "75%       3750.250000           290.00000   160.000000      82.000000\n",
            "max       5000.000000           350.00000   350.000000     118.000000\n",
            "Fraud_indicator\n",
            "Not Fraud    4017\n",
            "Fraud         983\n",
            "Name: count, dtype: int64\n"
          ]
        }
      ]
    },
    {
      "cell_type": "markdown",
      "source": [
        "Step 2: Feature Engineering\n"
      ],
      "metadata": {
        "id": "OjffToWn5IqN"
      }
    },
    {
      "cell_type": "code",
      "source": [
        "from sklearn.preprocessing import LabelEncoder, StandardScaler\n",
        "\n",
        "# Convert Timestamp to datetime and extract new features\n",
        "df['Timestamp'] = pd.to_datetime(df['Timestamp'])\n",
        "df['Day'] = df['Timestamp'].dt.day\n",
        "df['Month'] = df['Timestamp'].dt.month\n",
        "df['Hour'] = df['Timestamp'].dt.hour\n",
        "\n",
        "# Handle missing values\n",
        "df['FastagID'].fillna('Unknown', inplace=True)\n",
        "\n",
        "# Encode categorical variables\n",
        "label_encoders = {}\n",
        "for column in ['Vehicle_Type', 'FastagID', 'TollBoothID', 'Lane_Type', 'Vehicle_Dimensions', 'Vehicle_Plate_Number']:\n",
        "    le = LabelEncoder()\n",
        "    df[column] = le.fit_transform(df[column])\n",
        "    label_encoders[column] = le\n",
        "\n",
        "# Extract geographical location into latitude and longitude\n",
        "df[['Latitude', 'Longitude']] = df['Geographical_Location'].str.split(',', expand=True)\n",
        "df['Latitude'] = df['Latitude'].astype(float)\n",
        "df['Longitude'] = df['Longitude'].astype(float)\n",
        "\n",
        "# Drop the original Geographical_Location column\n",
        "df.drop(columns=['Geographical_Location', 'Timestamp'], inplace=True)\n",
        "\n",
        "# Normalize numerical features\n",
        "scaler = StandardScaler()\n",
        "df[['Transaction_Amount', 'Amount_paid', 'Vehicle_Speed', 'Latitude', 'Longitude']] = scaler.fit_transform(\n",
        "    df[['Transaction_Amount', 'Amount_paid', 'Vehicle_Speed', 'Latitude', 'Longitude']]\n",
        ")\n",
        "\n",
        "# Encode target variable\n",
        "df['Fraud_indicator'] = df['Fraud_indicator'].apply(lambda x: 1 if x == 'Fraud' else 0)\n",
        "\n",
        "print(df.head())\n"
      ],
      "metadata": {
        "colab": {
          "base_uri": "https://localhost:8080/"
        },
        "id": "TRgZOv4j5Lse",
        "outputId": "76977b7c-3609-464c-8782-9741b93ca584"
      },
      "execution_count": 8,
      "outputs": [
        {
          "output_type": "stream",
          "name": "stdout",
          "text": [
            "   Transaction_ID  Vehicle_Type  FastagID  TollBoothID  Lane_Type  \\\n",
            "0               1             0         2            0          0   \n",
            "1               2             1         9            1          1   \n",
            "2               3             2      4451            3          1   \n",
            "3               4             5       241            2          1   \n",
            "4               5             6      2860            1          0   \n",
            "\n",
            "   Vehicle_Dimensions  Transaction_Amount  Amount_paid  Vehicle_Speed  \\\n",
            "0                   0            1.680364    -0.199689      -0.171802   \n",
            "1                   2           -0.365195    -0.387535       0.611525   \n",
            "2                   2           -1.432443    -1.326764      -0.894872   \n",
            "3                   0            1.680364    -0.199689       1.455108   \n",
            "4                   1           -0.187320    -0.387535      -0.473081   \n",
            "\n",
            "   Vehicle_Plate_Number  Fraud_indicator  Day  Month  Hour  Latitude  \\\n",
            "0                  1482                1    6      1    11  0.327456   \n",
            "1                  3066                1    7      1    14  0.327456   \n",
            "2                  3663                0    8      1    18  0.327456   \n",
            "3                  1498                1    9      1     2  0.327456   \n",
            "4                  2409                1   10      1     6  0.327456   \n",
            "\n",
            "   Longitude  \n",
            "0    1.58381  \n",
            "1    1.58381  \n",
            "2    1.58381  \n",
            "3    1.58381  \n",
            "4    1.58381  \n"
          ]
        }
      ]
    },
    {
      "cell_type": "markdown",
      "source": [
        "Step 3: Model Development\n"
      ],
      "metadata": {
        "id": "H7YhC9kM5Prz"
      }
    },
    {
      "cell_type": "code",
      "source": [
        "from sklearn.model_selection import train_test_split\n",
        "from sklearn.ensemble import RandomForestClassifier\n",
        "from sklearn.metrics import classification_report, confusion_matrix, accuracy_score, precision_score, recall_score, f1_score\n",
        "\n",
        "# Split the data\n",
        "X = df.drop(columns=['Fraud_indicator', 'Transaction_ID'])\n",
        "y = df['Fraud_indicator']\n",
        "\n",
        "X_train, X_test, y_train, y_test = train_test_split(X, y, test_size=0.2, random_state=42, stratify=y)\n",
        "\n",
        "# Train a Random Forest Classifier\n",
        "model = RandomForestClassifier(random_state=42)\n",
        "model.fit(X_train, y_train)\n",
        "\n",
        "# Predict on the test set\n",
        "y_pred = model.predict(X_test)\n",
        "\n",
        "# Evaluate the model\n",
        "print(\"Accuracy:\", accuracy_score(y_test, y_pred))\n",
        "print(\"Precision:\", precision_score(y_test, y_pred))\n",
        "print(\"Recall:\", recall_score(y_test, y_pred))\n",
        "print(\"F1 Score:\", f1_score(y_test, y_pred))\n",
        "print(confusion_matrix(y_test, y_pred))\n",
        "print(classification_report(y_test, y_pred))\n"
      ],
      "metadata": {
        "colab": {
          "base_uri": "https://localhost:8080/"
        },
        "id": "u277uCVa5TGZ",
        "outputId": "8fe2a7f0-8491-48ff-ab5a-fe4683201316"
      },
      "execution_count": 9,
      "outputs": [
        {
          "output_type": "stream",
          "name": "stdout",
          "text": [
            "Accuracy: 0.983\n",
            "Precision: 1.0\n",
            "Recall: 0.9137055837563451\n",
            "F1 Score: 0.9549071618037135\n",
            "[[803   0]\n",
            " [ 17 180]]\n",
            "              precision    recall  f1-score   support\n",
            "\n",
            "           0       0.98      1.00      0.99       803\n",
            "           1       1.00      0.91      0.95       197\n",
            "\n",
            "    accuracy                           0.98      1000\n",
            "   macro avg       0.99      0.96      0.97      1000\n",
            "weighted avg       0.98      0.98      0.98      1000\n",
            "\n"
          ]
        }
      ]
    },
    {
      "cell_type": "markdown",
      "source": [
        "Step 4: Real-time Fraud Detection Feasibility\n"
      ],
      "metadata": {
        "id": "sJ4DEzTM5X-9"
      }
    },
    {
      "cell_type": "code",
      "source": [
        "# This is a conceptual example\n",
        "from flask import Flask, request, jsonify\n",
        "import pickle\n",
        "\n",
        "app = Flask(__name__)\n",
        "\n",
        "# Load the trained model\n",
        "model = pickle.load(open('/content/fraud_detection_model.pkl', 'rb'))\n",
        "\n",
        "@app.route('/predict', methods=['POST'])\n",
        "def predict():\n",
        "    data = request.get_json()\n",
        "    # Process input data to match the training format\n",
        "    input_data = pd.DataFrame(data, index=[0])\n",
        "    # Apply the same preprocessing steps\n",
        "    input_data['Day'] = pd.to_datetime(input_data['Timestamp']).dt.day\n",
        "    input_data['Month'] = pd.to_datetime(input_data['Timestamp']).dt.month\n",
        "    input_data['Hour'] = pd.to_datetime(input_data['Timestamp']).dt.hour\n",
        "    input_data.drop(columns=['Timestamp'], inplace=True)\n",
        "    input_data[['Latitude', 'Longitude']] = input_data['Geographical_Location'].str.split(',', expand=True)\n",
        "    input_data['Latitude'] = input_data['Latitude'].astype(float)\n",
        "    input_data['Longitude'] = input_data['Longitude'].astype(float)\n",
        "    input_data.drop(columns=['Geographical_Location'], inplace=True)\n",
        "    # Encoding and scaling would also need to be applied here\n",
        "\n",
        "    prediction = model.predict(input_data)\n",
        "    return jsonify({'Fraud': bool(prediction[0])})\n",
        "\n",
        "if __name__ == '__main__':\n",
        "    app.run(debug=True)\n"
      ],
      "metadata": {
        "colab": {
          "base_uri": "https://localhost:8080/"
        },
        "id": "7vTMoGXn5c3q",
        "outputId": "2c098c09-fbe3-4807-c5a5-190cac9a7afb"
      },
      "execution_count": 13,
      "outputs": [
        {
          "output_type": "stream",
          "name": "stdout",
          "text": [
            " * Serving Flask app '__main__'\n",
            " * Debug mode: on\n"
          ]
        },
        {
          "output_type": "stream",
          "name": "stderr",
          "text": [
            "INFO:werkzeug:\u001b[31m\u001b[1mWARNING: This is a development server. Do not use it in a production deployment. Use a production WSGI server instead.\u001b[0m\n",
            " * Running on http://127.0.0.1:5000\n",
            "INFO:werkzeug:\u001b[33mPress CTRL+C to quit\u001b[0m\n",
            "INFO:werkzeug: * Restarting with stat\n"
          ]
        }
      ]
    },
    {
      "cell_type": "markdown",
      "source": [
        "Step 5: Explanatory Analysis\n"
      ],
      "metadata": {
        "id": "F-pbPwEX5nmo"
      }
    },
    {
      "cell_type": "code",
      "source": [
        "importances = model.feature_importances_\n",
        "features = X.columns\n",
        "feature_importances = pd.DataFrame({'Feature': features, 'Importance': importances})\n",
        "feature_importances = feature_importances.sort_values(by='Importance', ascending=False)\n",
        "\n",
        "plt.figure(figsize=(10, 8))\n",
        "sns.barplot(x='Importance', y='Feature', data=feature_importances)\n",
        "plt.title('Feature Importances')\n",
        "plt.show()\n",
        "\n",
        "print(feature_importances)\n"
      ],
      "metadata": {
        "colab": {
          "base_uri": "https://localhost:8080/",
          "height": 992
        },
        "id": "6sgvehIr5riV",
        "outputId": "f22dc690-09b2-41c5-87f7-7f514c1c0b5d"
      },
      "execution_count": 15,
      "outputs": [
        {
          "output_type": "display_data",
          "data": {
            "text/plain": [
              "<Figure size 1000x800 with 1 Axes>"
            ],
            "image/png": "[encoded data removed]"
          },
          "metadata": {}
        },
        {
          "output_type": "stream",
          "name": "stdout",
          "text": [
            "                 Feature  Importance\n",
            "6            Amount_paid    0.464840\n",
            "5     Transaction_Amount    0.147067\n",
            "2            TollBoothID    0.055407\n",
            "4     Vehicle_Dimensions    0.050219\n",
            "0           Vehicle_Type    0.048940\n",
            "1               FastagID    0.047293\n",
            "8   Vehicle_Plate_Number    0.038573\n",
            "7          Vehicle_Speed    0.030695\n",
            "9                    Day    0.025798\n",
            "11                  Hour    0.024978\n",
            "13             Longitude    0.024003\n",
            "10                 Month    0.022809\n",
            "12              Latitude    0.013134\n",
            "3              Lane_Type    0.006244\n"
          ]
        }
      ]
    },
    {
      "cell_type": "markdown",
      "source": [
        "Final Steps: Documentation and Reporting\n"
      ],
      "metadata": {
        "id": "Y7fmT41h5w0u"
      }
    },
    {
      "cell_type": "code",
      "source": [
        "import pickle\n",
        "\n",
        "# Save the trained model\n",
        "with open('fraud_detection_model.pkl', 'wb') as f:\n",
        "    pickle.dump(model, f)\n",
        "\n",
        "# Generate a report\n",
        "with open('model_report.txt', 'w') as f:\n",
        "    f.write(f\"Model Performance:\\n\")\n",
        "    f.write(f\"Accuracy: {accuracy_score(y_test, y_pred)}\\n\")\n",
        "    f.write(f\"Precision: {precision_score(y_test, y_pred)}\\n\")\n",
        "    f.write(f\"Recall: {recall_score(y_test, y_pred)}\\n\")\n",
        "    f.write(f\"F1 Score: {f1_score(y_test, y_pred)}\\n\")\n",
        "    f.write(\"\\nConfusion Matrix:\\n\")\n",
        "    f.write(f\"{confusion_matrix(y_test, y_pred)}\\n\")\n",
        "    f.write(\"\\nClassification Report:\\n\")\n",
        "    f.write(f\"{classification_report(y_test, y_pred)}\\n\")\n",
        "    f.write(\"\\nFeature Importances:\\n\")\n",
        "    f.write(f\"{feature_importances}\\n\")\n"
      ],
      "metadata": {
        "id": "Zn9R0O9e5zy5"
      },
      "execution_count": 16,
      "outputs": []
    },
    {
      "cell_type": "markdown",
      "source": [
        "This code covers data exploration, feature engineering, model development, and evaluation. Real-time fraud detection feasibility is outlined with a conceptual example using Flask. Finally, explanatory analysis of feature importances is included, and a report summarizing the findings is generated. Adjustments might be needed based on the actual dataset and requirements."
      ],
      "metadata": {
        "id": "cRLWyuit58-g"
      }
    },
    {
      "cell_type": "markdown",
      "source": [],
      "metadata": {
        "id": "tPKvcomz5_M0"
      }
    }
  ]
}